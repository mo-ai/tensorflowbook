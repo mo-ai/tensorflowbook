{
 "cells": [
  {
   "cell_type": "code",
   "execution_count": 4,
   "metadata": {
    "collapsed": true
   },
   "outputs": [
    {
     "name": "stdout",
     "output_type": "stream",
     "text": [
      "['/Users/modongsong/test_data/stanford_dogs/Images/n02085620-Chihuahua/n02085620_10074.jpg', '/Users/modongsong/test_data/stanford_dogs/Images/n02085620-Chihuahua/n02085620_10131.jpg']\n('n02085620-Chihuahua', '/Users/modongsong/test_data/stanford_dogs/Images/n02085620-Chihuahua/n02085620_10074.jpg')\n"
     ]
    }
   ],
   "source": [
    "import os\n",
    "\n",
    "import tensorflow as tf\n",
    "\n",
    "sess = tf.InteractiveSession()\n",
    "\n",
    "import glob\n",
    "\n",
    "image_filenames = glob.glob(os.path.expanduser(\"~\")+\"/test_data/stanford_dogs/Images/n02*/*.jpg\")\n",
    "\n",
    "print image_filenames[0:2]\n",
    "\n",
    "from itertools import groupby\n",
    "from collections import defaultdict\n",
    "\n",
    "training_dataset = defaultdict(list)\n",
    "testing_dataset = defaultdict(list)\n",
    "\n",
    "# Split up the filename into its breed and corresponding filename. The breed is found by taking the directory name\n",
    "image_filename_with_breed = map(lambda filename: (filename.split(\"Images/\")[1].split(\"/\")[0], filename), image_filenames)\n",
    "\n",
    "print image_filename_with_breed[0]\n",
    "\n",
    "# Group each image by the breed which is the 0th element in the tuple returned above\n",
    "for dog_breed, breed_images in groupby(image_filename_with_breed, lambda x: x[0]):\n",
    "    # Enumerate each breed's image and send ~20% of the images to a testing set\n",
    "    for i, breed_image in enumerate(breed_images):\n",
    "        if i % 5 == 0:\n",
    "            testing_dataset[dog_breed].append(breed_image[1])\n",
    "        else:\n",
    "            training_dataset[dog_breed].append(breed_image[1])\n",
    "\n",
    "    # Check that each breed includes at least 18% of the images for testing\n",
    "    breed_training_count = len(training_dataset[dog_breed])\n",
    "    breed_testing_count = len(testing_dataset[dog_breed])\n",
    "\n",
    "    # assert round(breed_testing_count / (breed_training_count + breed_testing_count),\n",
    "    #              2) > 0.18, \"Not enough testing images.\""
   ]
  },
  {
   "cell_type": "code",
   "execution_count": 11,
   "metadata": {
    "collapsed": false
   },
   "outputs": [
    {
     "data": {
      "text/plain": [
       "'/Users/modongsong'"
      ]
     },
     "execution_count": 11,
     "metadata": {},
     "output_type": "execute_result"
    }
   ],
   "source": [
    "import os\n",
    "\n",
    "os.path.expanduser(\"~\")"
   ]
  },
  {
   "cell_type": "code",
   "execution_count": null,
   "metadata": {},
   "outputs": [],
   "source": [
    ""
   ]
  }
 ],
 "metadata": {
  "kernelspec": {
   "display_name": "Python 2",
   "language": "python",
   "name": "python2"
  },
  "language_info": {
   "codemirror_mode": {
    "name": "ipython",
    "version": 2.0
   },
   "file_extension": ".py",
   "mimetype": "text/x-python",
   "name": "python",
   "nbconvert_exporter": "python",
   "pygments_lexer": "ipython2",
   "version": "2.7.6"
  }
 },
 "nbformat": 4,
 "nbformat_minor": 0
}